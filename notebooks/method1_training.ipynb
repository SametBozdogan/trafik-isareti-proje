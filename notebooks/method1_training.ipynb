{
 "cells": [
  {
   "cell_type": "markdown",
   "id": "15adb993-ba91-44cb-b853-0c2a7578ad5a",
   "metadata": {},
   "source": [
    "# Trafik İşareti Sınıflandırma – Yöntem 1\n",
    "\n",
    "Samet Bozdoğan – 211101009\n",
    "\n",
    "İçerik:\n",
    "1. Özellik hazırlığı (`prepare_features.py`)\n",
    "2. Model eğitimi (`train_method1.py`)"
   ]
  },
  {
   "cell_type": "code",
   "execution_count": 1,
   "id": "d205e332-299d-44bd-9f43-fbb0bee97cc3",
   "metadata": {},
   "outputs": [],
   "source": [
    "# Bu kod ile yol sorunu çözülüyor\n",
    "import os , sys\n",
    "os.chdir(\"..\")"
   ]
  },
  {
   "cell_type": "code",
   "execution_count": 2,
   "id": "3a20b559-7bf1-4e35-a5ce-4b75b320d666",
   "metadata": {},
   "outputs": [
    {
     "name": "stdout",
     "output_type": "stream",
     "text": [
      "Özellikler zaten oluşturulmuş, prepare_features çağrısı atlanıyor.\n"
     ]
    }
   ],
   "source": [
    "# Özellikleri hazırla ve kaydet\n",
    "%run src/prepare_features.py"
   ]
  },
  {
   "cell_type": "code",
   "execution_count": 3,
   "id": "e3f3c414-a02c-4451-b695-403701e80831",
   "metadata": {
    "scrolled": true
   },
   "outputs": [
    {
     "name": "stdout",
     "output_type": "stream",
     "text": [
      "KNN modeli hazır, yüklendi.\n",
      "SVM modeli hazır, yüklendi.\n",
      "RF modeli hazır, yüklendi.\n",
      "GBC modeli hazır, yüklendi.\n",
      "MLP modeli hazır, yüklendi.\n",
      "  model                                             params  accuracy  \\\n",
      "0   knn  {'algorithm': 'auto', 'leaf_size': 30, 'metric...    0.9045   \n",
      "1   svm  {'C': 0.1, 'break_ties': False, 'cache_size': ...    0.1805   \n",
      "2    rf  {'bootstrap': True, 'ccp_alpha': 0.0, 'class_w...    0.7165   \n",
      "3   gbc  {'ccp_alpha': 0.0, 'criterion': 'friedman_mse'...    0.8725   \n",
      "4   mlp  {'activation': 'relu', 'alpha': 0.0001, 'batch...    0.9250   \n",
      "\n",
      "   precision  recall      f1  \n",
      "0     0.8996  0.8744  0.8804  \n",
      "1     0.0120  0.0667  0.0204  \n",
      "2     0.8498  0.6014  0.6529  \n",
      "3     0.8542  0.8160  0.8302  \n",
      "4     0.9158  0.9029  0.9085  \n"
     ]
    }
   ],
   "source": [
    "# Modelleri eğit ve kaydet\n",
    "%run src/train_method1.py"
   ]
  },
  {
   "cell_type": "code",
   "execution_count": 4,
   "id": "307d380a-1db8-457d-a330-c8407a6a6784",
   "metadata": {},
   "outputs": [
    {
     "data": {
      "text/html": [
       "<div>\n",
       "<style scoped>\n",
       "    .dataframe tbody tr th:only-of-type {\n",
       "        vertical-align: middle;\n",
       "    }\n",
       "\n",
       "    .dataframe tbody tr th {\n",
       "        vertical-align: top;\n",
       "    }\n",
       "\n",
       "    .dataframe thead th {\n",
       "        text-align: right;\n",
       "    }\n",
       "</style>\n",
       "<table border=\"1\" class=\"dataframe\">\n",
       "  <thead>\n",
       "    <tr style=\"text-align: right;\">\n",
       "      <th></th>\n",
       "      <th>model</th>\n",
       "      <th>params</th>\n",
       "      <th>accuracy</th>\n",
       "      <th>precision</th>\n",
       "      <th>recall</th>\n",
       "      <th>f1</th>\n",
       "    </tr>\n",
       "  </thead>\n",
       "  <tbody>\n",
       "    <tr>\n",
       "      <th>0</th>\n",
       "      <td>knn</td>\n",
       "      <td>{'algorithm': 'auto', 'leaf_size': 30, 'metric...</td>\n",
       "      <td>0.9045</td>\n",
       "      <td>0.8996</td>\n",
       "      <td>0.8744</td>\n",
       "      <td>0.8804</td>\n",
       "    </tr>\n",
       "    <tr>\n",
       "      <th>1</th>\n",
       "      <td>svm</td>\n",
       "      <td>{'C': 0.1, 'break_ties': False, 'cache_size': ...</td>\n",
       "      <td>0.1805</td>\n",
       "      <td>0.0120</td>\n",
       "      <td>0.0667</td>\n",
       "      <td>0.0204</td>\n",
       "    </tr>\n",
       "    <tr>\n",
       "      <th>2</th>\n",
       "      <td>rf</td>\n",
       "      <td>{'bootstrap': True, 'ccp_alpha': 0.0, 'class_w...</td>\n",
       "      <td>0.7165</td>\n",
       "      <td>0.8498</td>\n",
       "      <td>0.6014</td>\n",
       "      <td>0.6529</td>\n",
       "    </tr>\n",
       "    <tr>\n",
       "      <th>3</th>\n",
       "      <td>gbc</td>\n",
       "      <td>{'ccp_alpha': 0.0, 'criterion': 'friedman_mse'...</td>\n",
       "      <td>0.8725</td>\n",
       "      <td>0.8542</td>\n",
       "      <td>0.8160</td>\n",
       "      <td>0.8302</td>\n",
       "    </tr>\n",
       "    <tr>\n",
       "      <th>4</th>\n",
       "      <td>mlp</td>\n",
       "      <td>{'activation': 'relu', 'alpha': 0.0001, 'batch...</td>\n",
       "      <td>0.9250</td>\n",
       "      <td>0.9158</td>\n",
       "      <td>0.9029</td>\n",
       "      <td>0.9085</td>\n",
       "    </tr>\n",
       "  </tbody>\n",
       "</table>\n",
       "</div>"
      ],
      "text/plain": [
       "  model                                             params  accuracy  \\\n",
       "0   knn  {'algorithm': 'auto', 'leaf_size': 30, 'metric...    0.9045   \n",
       "1   svm  {'C': 0.1, 'break_ties': False, 'cache_size': ...    0.1805   \n",
       "2    rf  {'bootstrap': True, 'ccp_alpha': 0.0, 'class_w...    0.7165   \n",
       "3   gbc  {'ccp_alpha': 0.0, 'criterion': 'friedman_mse'...    0.8725   \n",
       "4   mlp  {'activation': 'relu', 'alpha': 0.0001, 'batch...    0.9250   \n",
       "\n",
       "   precision  recall      f1  \n",
       "0     0.8996  0.8744  0.8804  \n",
       "1     0.0120  0.0667  0.0204  \n",
       "2     0.8498  0.6014  0.6529  \n",
       "3     0.8542  0.8160  0.8302  \n",
       "4     0.9158  0.9029  0.9085  "
      ]
     },
     "metadata": {},
     "output_type": "display_data"
    }
   ],
   "source": [
    "# Eğitim sonuçlarını tablo olarak göster\n",
    "import pandas as pd\n",
    "res = pd.read_csv('results/method1_results.csv')\n",
    "display(res)"
   ]
  }
 ],
 "metadata": {
  "kernelspec": {
   "display_name": "Python 3 (ipykernel)",
   "language": "python",
   "name": "python3"
  },
  "language_info": {
   "codemirror_mode": {
    "name": "ipython",
    "version": 3
   },
   "file_extension": ".py",
   "mimetype": "text/x-python",
   "name": "python",
   "nbconvert_exporter": "python",
   "pygments_lexer": "ipython3",
   "version": "3.10.12"
  }
 },
 "nbformat": 4,
 "nbformat_minor": 5
}
